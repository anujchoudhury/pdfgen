{
 "cells": [
  {
   "cell_type": "code",
   "execution_count": 120,
   "id": "e75b716f",
   "metadata": {},
   "outputs": [],
   "source": [
    "from PyPDF2 import PdfFileWriter, PdfFileReader\n",
    "import io\n",
    "import subprocess\n",
    "from reportlab.pdfgen import canvas\n",
    "from reportlab.lib.pagesizes import letter\n",
    "from reportlab.pdfbase.pdfmetrics import registerFont\n",
    "from reportlab.pdfbase.ttfonts import TTFont"
   ]
  },
  {
   "cell_type": "code",
   "execution_count": 121,
   "id": "8edd266b",
   "metadata": {},
   "outputs": [],
   "source": [
    "from PyPDF2 import PdfFileWriter, PdfFileReader\n",
    "import io\n",
    "import subprocess\n",
    "from reportlab.pdfgen import canvas\n",
    "from reportlab.lib.pagesizes import letter\n",
    "from reportlab.pdfbase.pdfmetrics import registerFont\n",
    "from reportlab.pdfbase.ttfonts import TTFont\n",
    "registerFont(TTFont('Calibri', 'Calibri Regular.ttf')) # Just some font imports"
   ]
  },
  {
   "cell_type": "code",
   "execution_count": 122,
   "id": "2339f28d",
   "metadata": {},
   "outputs": [],
   "source": [
    "def PDFcreator(name, surname, date_of_birth, gender, original=\"original.pdf\", destination=\"destination.pdf\"):\n",
    "    packet = io.BytesIO()\n",
    "    can = canvas.Canvas(packet, pagesize=letter)\n",
    "    can.setFont(\"Calibri\", 11)\n",
    "    can.drawString(158, 620, name+\" \" +surname)\n",
    "    can.drawString(360, 620, gender)\n",
    "    can.drawString(360, 606, date_of_birth)\n",
    "    can.save()\n",
    "\n",
    "    # move to the beginning of the StringIO buffer\n",
    "    packet.seek(0)\n",
    "\n",
    "    # create a new PDF with Reportlab\n",
    "    new_pdf = PdfFileReader(packet)\n",
    "    # read your existing PDF\n",
    "    existing_pdf = PdfFileReader(open(original, \"rb\"))\n",
    "    output = PdfFileWriter()\n",
    "    # add the \"watermark\" (which is the new pdf) on the existing page\n",
    "    page = existing_pdf.getPage(0)\n",
    "    page.mergePage(new_pdf.getPage(0))\n",
    "    output.addPage(page)\n",
    "    # finally, write \"output\" to a real file\n",
    "    outputStream = open(destination, \"wb\")\n",
    "    output.write(outputStream)\n",
    "    outputStream.close()\n",
    "\n",
    "#     bashCommand = \"open \" + destination\n",
    "#     process = subprocess.Popen(bashCommand.split(), stdout=subprocess.PIPE)\n",
    "#     output, error = process.communicate()"
   ]
  },
  {
   "cell_type": "code",
   "execution_count": 123,
   "id": "c7e52b56",
   "metadata": {},
   "outputs": [],
   "source": [
    "PDFcreator(\"Harry\", \"Potter\",\"31/07/1980\",\"M\",\"salary_slip_format_basic_edited.pdf\",\"Auror_MoM.pdf\")"
   ]
  },
  {
   "cell_type": "code",
   "execution_count": 124,
   "id": "787b4e36",
   "metadata": {},
   "outputs": [],
   "source": [
    "import json\n",
    "from pathlib import Path\n",
    "from datetime import datetime\n",
    "\n",
    "# date_obj = datetime.strptime(date_input, '%d-%b-%Y')\n",
    "# print date_obj.strftime('%d-%m-%Y')"
   ]
  },
  {
   "cell_type": "code",
   "execution_count": 125,
   "id": "eab97b69",
   "metadata": {},
   "outputs": [],
   "source": [
    "def fileiterator(filename):\n",
    "    # Opening JSON file\n",
    "    f = open(filename)\n",
    "    # returns JSON object as a dictionary\n",
    "    text_data = json.load(f)\n",
    "    # Iterating through the json list\n",
    "    data=text_data[\"_via_img_metadata\"]\n",
    "    for items in data:\n",
    "        common_dict=dict()\n",
    "        for attributes in data[items][\"regions\"]:\n",
    "            common_dict[attributes[\"region_attributes\"][\"field_name\"]]=attributes[\"region_attributes\"][\"value\"]\n",
    "        dob=(common_dict[\"birth_date\"])\n",
    "\n",
    "#         dob=dob.replace(\"Okt\",\"Oct\")#grc_passport\n",
    "#         date_obj=datetime.strptime(dob, '%d %b %y')#grc_passport\n",
    "#         dob=date_obj.strftime('%d/%m/%Y')#grc_passport\n",
    "\n",
    "#         dob=dob.replace(\"Okt\",\"Oct\")\n",
    "        date_obj=datetime.strptime(dob, '%d. %m. %Y')\n",
    "        dob=date_obj.strftime('%d/%m/%Y')\n",
    "\n",
    "        gender=common_dict[\"gender\"]#.split(\"/\")[1]\n",
    "        \n",
    "        name=common_dict[\"name\"].title()\n",
    "        \n",
    "        surname=common_dict[\"surname\"].title()#+\" \"+common_dict[\"surname_second\"].title()\n",
    "        \n",
    "        print(name+\" \"+surname+\" \"+gender+\" \"+dob)\n",
    "\n",
    "        foldername=filename.split(\".\")[0]\n",
    "        \n",
    "        Path(foldername).mkdir(parents=True, exist_ok=True)\n",
    "        \n",
    "        itemname=items.split(\".\")[0]\n",
    "        \n",
    "        print(itemname)\n",
    "        PDFcreator(name, surname,dob,gender,\"salary_slip_format_basic_edited.pdf\",foldername+\"/\"+itemname+\".pdf\")\n",
    "    f.close()\n",
    "\n",
    "# fileiterator(\"templates/annotations/alb_id.json\")\n",
    "# fileiterator(\"templates/annotations/aze_passport.json\") #gender contains prefix, date of birth has . instead of / ??\n",
    "# fileiterator(\"templates/annotations/esp_id.json\") # 2 surnames, date with spaces\n",
    "# fileiterator(\"templates/annotations/est_id.json\") # gender contains prefix\n",
    "# fileiterator(\"templates/annotations/fin_id.json\") # dob split by \" \" and .\n",
    "# fileiterator(\"templates/annotations/grc_passport.json\") # weird style for October and date nmonth year, and names as well!\n",
    "# fileiterator(\"templates/annotations/lva_passport.json\") # date of birth was strange - . after year!\n",
    "# fileiterator(\"templates/annotations/rus_internalpassport.json\")# weird names!\n",
    "# fileiterator(\"templates/annotations/srb_passport.json\") # gender split by spaces and slashes\n",
    "# fileiterator(\"templates/annotations/svk_id.json\")"
   ]
  },
  {
   "cell_type": "code",
   "execution_count": null,
   "id": "7fe54a06",
   "metadata": {},
   "outputs": [],
   "source": []
  },
  {
   "cell_type": "code",
   "execution_count": null,
   "id": "84307b91",
   "metadata": {},
   "outputs": [],
   "source": []
  }
 ],
 "metadata": {
  "kernelspec": {
   "display_name": "Python 3 (ipykernel)",
   "language": "python",
   "name": "python3"
  },
  "language_info": {
   "codemirror_mode": {
    "name": "ipython",
    "version": 3
   },
   "file_extension": ".py",
   "mimetype": "text/x-python",
   "name": "python",
   "nbconvert_exporter": "python",
   "pygments_lexer": "ipython3",
   "version": "3.9.7"
  }
 },
 "nbformat": 4,
 "nbformat_minor": 5
}
