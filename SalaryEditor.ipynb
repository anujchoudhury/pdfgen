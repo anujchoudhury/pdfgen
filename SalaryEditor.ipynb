{
 "cells": [
  {
   "cell_type": "code",
   "execution_count": 56,
   "id": "e75b716f",
   "metadata": {},
   "outputs": [
    {
     "data": {
      "text/plain": [
       "'en_US'"
      ]
     },
     "execution_count": 56,
     "metadata": {},
     "output_type": "execute_result"
    }
   ],
   "source": [
    "from PyPDF2 import PdfFileWriter, PdfFileReader\n",
    "import io\n",
    "import subprocess\n",
    "from reportlab.pdfgen import canvas\n",
    "from reportlab.lib.pagesizes import letter\n",
    "from reportlab.pdfbase.pdfmetrics import registerFont\n",
    "from reportlab.pdfbase.ttfonts import TTFont\n",
    "import random\n",
    "\n",
    "import locale\n",
    "locale.setlocale(locale.LC_ALL, 'en_US')"
   ]
  },
  {
   "cell_type": "code",
   "execution_count": 57,
   "id": "8edd266b",
   "metadata": {},
   "outputs": [],
   "source": [
    "from PyPDF2 import PdfFileWriter, PdfFileReader\n",
    "import io\n",
    "import subprocess\n",
    "from reportlab.pdfgen import canvas\n",
    "from reportlab.lib.pagesizes import letter\n",
    "from reportlab.pdfbase.pdfmetrics import registerFont\n",
    "from reportlab.pdfbase.ttfonts import TTFont\n",
    "registerFont(TTFont('Calibri', 'Calibri Regular.ttf')) # Just some font imports"
   ]
  },
  {
   "cell_type": "code",
   "execution_count": 77,
   "id": "2339f28d",
   "metadata": {},
   "outputs": [],
   "source": [
    "def SalaryFiller(can):\n",
    "    \n",
    "    basic = (random.choice([14000, 15000, 17000, 18000, 21000, 22000]))\n",
    "    can.drawString(353, 445, f'{basic:n}')\n",
    "    \n",
    "    hra = (random.choice([9000, 9500, 10000, 10500, 11000, 11500]))\n",
    "    can.drawString(353, 432, f'{hra:n}')\n",
    "    \n",
    "    \n",
    "    conveyance = (random.choice([700, 800, 900, 1000]))\n",
    "    can.drawString(353, 419, str(conveyance))\n",
    "    \n",
    "    dearness_allowance = (random.choice([450, 500, 600, 700, 800]))\n",
    "    can.drawString(353, 406, str(dearness_allowance))\n",
    "    \n",
    "    overtime = (random.choice([100, 125, 150, 175, 200]))\n",
    "    can.drawString(353, 393, f'{overtime:n}')\n",
    "    \n",
    "    subtotal = basic + hra + overtime + dearness_allowance + conveyance\n",
    "    can.drawString(353, 343, f'{subtotal:n}')\n",
    "    \n",
    "    state_insurance = ((int)(7*basic)/10000)*100\n",
    "    can.drawString(353, 321, f'{state_insurance:n}')\n",
    "    \n",
    "    pf = ((int)(3*basic)/10000)*100\n",
    "    can.drawString(353, 299, f'{pf:n}')\n",
    "    \n",
    "    NetSalary = subtotal*(0.96)-(state_insurance+pf)\n",
    "\n",
    "def PDFcreator(name, surname, date_of_birth, gender, original=\"original.pdf\", destination=\"destination.pdf\"):\n",
    "    packet = io.BytesIO()\n",
    "    can = canvas.Canvas(packet, pagesize=letter)\n",
    "    can.setFont(\"Calibri\", 11)\n",
    "    can.drawString(158, 620, name+\" \" +surname)\n",
    "    can.drawString(360, 620, gender)\n",
    "    can.drawString(360, 606, date_of_birth)\n",
    "    SalaryFiller(can)\n",
    "    can.save()\n",
    "\n",
    "    # move to the beginning of the StringIO buffer\n",
    "    packet.seek(0)\n",
    "\n",
    "    # create a new PDF with Reportlab\n",
    "    new_pdf = PdfFileReader(packet)\n",
    "    # read your existing PDF\n",
    "    existing_pdf = PdfFileReader(open(original, \"rb\"))\n",
    "    output = PdfFileWriter()\n",
    "    # add the \"watermark\" (which is the new pdf) on the existing page\n",
    "    page = existing_pdf.getPage(0)\n",
    "    page.mergePage(new_pdf.getPage(0))\n",
    "    output.addPage(page)\n",
    "    # finally, write \"output\" to a real file\n",
    "    outputStream = open(destination, \"wb\")\n",
    "    output.write(outputStream)\n",
    "    outputStream.close()\n",
    "\n",
    "    bashCommand = \"open \" + destination\n",
    "    process = subprocess.Popen(bashCommand.split(), stdout=subprocess.PIPE)\n",
    "\n",
    "    output, error = process.communicate()\n",
    "PDFcreator(\"Harry\", \"Potter\",\"31/07/1980\",\"M\",\"salary_slip_format_basic.pdf\",\"Auror_MoM_salary.pdf\")"
   ]
  }
 ],
 "metadata": {
  "kernelspec": {
   "display_name": "Python 3 (ipykernel)",
   "language": "python",
   "name": "python3"
  },
  "language_info": {
   "codemirror_mode": {
    "name": "ipython",
    "version": 3
   },
   "file_extension": ".py",
   "mimetype": "text/x-python",
   "name": "python",
   "nbconvert_exporter": "python",
   "pygments_lexer": "ipython3",
   "version": "3.9.7"
  }
 },
 "nbformat": 4,
 "nbformat_minor": 5
}
